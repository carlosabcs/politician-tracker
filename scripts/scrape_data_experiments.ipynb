{
 "cells": [
  {
   "cell_type": "markdown",
   "source": [
    "## Experiments notebook\n",
    "This is a Notebook for experiments before adding methods to `scrape_data.py`."
   ],
   "metadata": {}
  },
  {
   "cell_type": "code",
   "execution_count": 11,
   "source": [
    "import requests\n",
    "\n",
    "date = '22/08/2021'\n",
    "response = requests.post(\n",
    "    'https://visitas.servicios.gob.pe/consultas/dataBusqueda.php',\n",
    "    data={\n",
    "        'busqueda': 20168999926,\n",
    "        'fecha': f'{date} - {date}',\n",
    "    }\n",
    ")\n",
    "response.encoding = \"utf-8-sig\"\n",
    "response.json()"
   ],
   "outputs": [],
   "metadata": {}
  },
  {
   "cell_type": "code",
   "execution_count": 9,
   "source": [],
   "outputs": [
    {
     "output_type": "error",
     "ename": "AttributeError",
     "evalue": "'str' object has no attribute 'decode'",
     "traceback": [
      "\u001b[0;31m---------------------------------------------------------------------------\u001b[0m",
      "\u001b[0;31mAttributeError\u001b[0m                            Traceback (most recent call last)",
      "\u001b[0;32m<ipython-input-9-1d14d14c33b2>\u001b[0m in \u001b[0;36m<module>\u001b[0;34m\u001b[0m\n\u001b[0;32m----> 1\u001b[0;31m \u001b[0;34mu'{response.text}'\u001b[0m\u001b[0;34m.\u001b[0m\u001b[0mdecode\u001b[0m\u001b[0;34m(\u001b[0m\u001b[0;34m'utf-8'\u001b[0m\u001b[0;34m)\u001b[0m\u001b[0;34m\u001b[0m\u001b[0;34m\u001b[0m\u001b[0m\n\u001b[0m",
      "\u001b[0;31mAttributeError\u001b[0m: 'str' object has no attribute 'decode'"
     ]
    }
   ],
   "metadata": {}
  },
  {
   "cell_type": "code",
   "execution_count": 34,
   "source": [
    "from bs4 import BeautifulSoup\n",
    "import re\n",
    "\n",
    "def get_number_from_string(string):\n",
    "    return int(re.search(r'\\d+', string).group())\n",
    "\n",
    "# A partir de acá, hay que trabajar con BeautifulSoup o algo que parsee HTML\n",
    "soup = BeautifulSoup(response.text, 'html.parser')\n",
    "# El primer \"spam\" contiene el número de registros\n",
    "row_count = get_number_from_string(soup.span.text)\n",
    "row_count"
   ],
   "outputs": [
    {
     "output_type": "execute_result",
     "data": {
      "text/plain": [
       "7"
      ]
     },
     "metadata": {},
     "execution_count": 34
    }
   ],
   "metadata": {}
  },
  {
   "cell_type": "code",
   "execution_count": 37,
   "source": [
    "rows = soup.find_all('tr')\n",
    "assert(len(rows) - 1 == row_count)\n",
    "for row in rows:\n",
    "    cells = row.find_all('td')\n",
    "    if len(cells) != 11: # The number of fields...\n",
    "        print('Esto solo se salta una vez')\n",
    "        continue\n",
    "    \n",
    "    meeting = {\n",
    "        'visitor_name': cells[2].text,\n",
    "        'visitor_document': cells[3].text,\n",
    "        'visitor_entity': cells[4].text,\n",
    "        'meeting_reason': cells[5].text,\n",
    "        'public_employee_name': cells[6].text,\n",
    "        'public_employee_position': cells[7].span.text,\n",
    "        'office_name': cells[7].span.previousSibling,\n",
    "        'meeting_start_time': f'{cells[1].text} {cells[8].text}',\n",
    "        'meeting_end_time': f'{cells[1].text} {cells[9].text}',\n",
    "        'observation': cells[10].text,\n",
    "    }\n",
    "    print(meeting)\n",
    "    print('')"
   ],
   "outputs": [
    {
     "output_type": "stream",
     "name": "stdout",
     "text": [
      "Esto solo se salta una vez\n",
      "{'visitor_name': 'ARAPA OBISPO LUIS MIGUEL', 'visitor_document': 'DNI 46967576', 'visitor_entity': 'CONSORCIO ROMERO EIRL', 'meeting_reason': 'OTROS: PROVEEDOR DE CARNE DE AVES', 'public_employee_name': 'YANAPA ZENTENO MARCO', 'public_employee_position': '', 'office_name': 'AREA DE ALIMENTACIóN', 'meeting_start_time': '14/08/2021 08:39', 'meeting_end_time': '14/08/2021 09:26', 'observation': ''}\n",
      "\n",
      "{'visitor_name': 'VALDERRAMA AGÜERO LILIANA DEL ROCIO', 'visitor_document': 'DNI 10463027', 'visitor_entity': 'INVERSIONES OLIVAL S.A.C.', 'meeting_reason': 'OTROS: INVERSIONES OLIVAL S.A.C.', 'public_employee_name': 'YANAPA ZENTENO MARCO', 'public_employee_position': '', 'office_name': 'AREA DE ALIMENTACIóN', 'meeting_start_time': '14/08/2021 08:29', 'meeting_end_time': '14/08/2021 08:38', 'observation': ''}\n",
      "\n",
      "{'visitor_name': 'LIZARRAGA MORALES JENRY ROLANDO', 'visitor_document': 'DNI 46231718', 'visitor_entity': 'IDELCOM', 'meeting_reason': 'OTROS: EJECUCION DE SERVICIO', 'public_employee_name': 'SANDOVAL RODRIGUEZ JUAN', 'public_employee_position': 'ESPECIALISTA PARA EL AREA DE PROTECCION DEL PATRIMONIO CULTURAL', 'office_name': 'AREA DE PROTECCIÓN DEL PATRIMONIO CULTURAL', 'meeting_start_time': '14/08/2021 08:23', 'meeting_end_time': '14/08/2021 08:37', 'observation': ''}\n",
      "\n",
      "{'visitor_name': 'MALLQUI ANDAHUA VERONICA ANDREA', 'visitor_document': 'DNI 44846675', 'visitor_entity': 'SANFER', 'meeting_reason': 'REUNION DE TRABAJO', 'public_employee_name': 'VALVERDE TRUJILLO SANDRO', 'public_employee_position': 'RESPONSABLE DEL ÁREA DE SERVICIOS GENERALES', 'office_name': 'AREA DE SERVICIOS GENERALES', 'meeting_start_time': '14/08/2021 06:57', 'meeting_end_time': '14/08/2021 07:06', 'observation': ''}\n",
      "\n",
      "{'visitor_name': 'VILLANUEVA REYES ANALI CINTHIA', 'visitor_document': 'DNI 46224725', 'visitor_entity': 'SANFER', 'meeting_reason': 'REUNION DE TRABAJO', 'public_employee_name': 'VALVERDE TRUJILLO SANDRO', 'public_employee_position': 'RESPONSABLE DEL ÁREA DE SERVICIOS GENERALES', 'office_name': 'AREA DE SERVICIOS GENERALES', 'meeting_start_time': '14/08/2021 06:54', 'meeting_end_time': '14/08/2021 06:59', 'observation': ''}\n",
      "\n",
      "{'visitor_name': 'CHUMPITAZ RAMON VERONICA YANET', 'visitor_document': 'DNI 40038089', 'visitor_entity': 'SANFER', 'meeting_reason': 'REUNION DE TRABAJO', 'public_employee_name': 'VALVERDE TRUJILLO SANDRO', 'public_employee_position': 'RESPONSABLE DEL ÁREA DE SERVICIOS GENERALES', 'office_name': 'AREA DE SERVICIOS GENERALES', 'meeting_start_time': '14/08/2021 06:49', 'meeting_end_time': '14/08/2021 06:53', 'observation': ''}\n",
      "\n",
      "{'visitor_name': 'LUNA ALARCON WILLIANS', 'visitor_document': 'DNI 10200758', 'visitor_entity': 'JUAN CARLOS COJAL TRINIDAD', 'meeting_reason': 'OTROS: PROVEEDOR DE PAN', 'public_employee_name': 'YANAPA ZENTENO MARCO', 'public_employee_position': '', 'office_name': 'AREA DE ALIMENTACIóN', 'meeting_start_time': '14/08/2021 04:13', 'meeting_end_time': '14/08/2021 04:16', 'observation': ''}\n",
      "\n"
     ]
    }
   ],
   "metadata": {}
  }
 ],
 "metadata": {
  "orig_nbformat": 4,
  "language_info": {
   "name": "python",
   "version": "3.8.3",
   "mimetype": "text/x-python",
   "codemirror_mode": {
    "name": "ipython",
    "version": 3
   },
   "pygments_lexer": "ipython3",
   "nbconvert_exporter": "python",
   "file_extension": ".py"
  },
  "kernelspec": {
   "name": "python3",
   "display_name": "Python 3.8.3 64-bit ('base': conda)"
  },
  "interpreter": {
   "hash": "437a4565a36589f749743335c70ea893931d3a7502dbb29d0917dd9cd9f3387b"
  }
 },
 "nbformat": 4,
 "nbformat_minor": 2
}